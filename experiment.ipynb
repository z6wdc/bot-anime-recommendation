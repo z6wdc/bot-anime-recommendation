{
 "cells": [
  {
   "cell_type": "code",
   "execution_count": 10,
   "metadata": {},
   "outputs": [],
   "source": [
    "import pickle\n",
    "import pandas as pd"
   ]
  },
  {
   "cell_type": "code",
   "execution_count": 11,
   "metadata": {},
   "outputs": [],
   "source": [
    "pkl_file = open('data/anime_indices.pkl', 'rb')\n",
    "indices = pickle.load(pkl_file)"
   ]
  },
  {
   "cell_type": "code",
   "execution_count": 5,
   "metadata": {},
   "outputs": [
    {
     "data": {
      "text/html": [
       "<div>\n",
       "<style scoped>\n",
       "    .dataframe tbody tr th:only-of-type {\n",
       "        vertical-align: middle;\n",
       "    }\n",
       "\n",
       "    .dataframe tbody tr th {\n",
       "        vertical-align: top;\n",
       "    }\n",
       "\n",
       "    .dataframe thead th {\n",
       "        text-align: right;\n",
       "    }\n",
       "</style>\n",
       "<table border=\"1\" class=\"dataframe\">\n",
       "  <thead>\n",
       "    <tr style=\"text-align: right;\">\n",
       "      <th></th>\n",
       "      <th>Name</th>\n",
       "      <th>Score</th>\n",
       "      <th>Japanese name</th>\n",
       "    </tr>\n",
       "  </thead>\n",
       "  <tbody>\n",
       "    <tr>\n",
       "      <th>0</th>\n",
       "      <td>Cowboy Bebop</td>\n",
       "      <td>8.78</td>\n",
       "      <td>カウボーイビバップ</td>\n",
       "    </tr>\n",
       "    <tr>\n",
       "      <th>1</th>\n",
       "      <td>Cowboy Bebop: Tengoku no Tobira</td>\n",
       "      <td>8.39</td>\n",
       "      <td>カウボーイビバップ 天国の扉</td>\n",
       "    </tr>\n",
       "    <tr>\n",
       "      <th>2</th>\n",
       "      <td>Trigun</td>\n",
       "      <td>8.24</td>\n",
       "      <td>トライガン</td>\n",
       "    </tr>\n",
       "    <tr>\n",
       "      <th>3</th>\n",
       "      <td>Witch Hunter Robin</td>\n",
       "      <td>7.27</td>\n",
       "      <td>Witch Hunter ROBIN (ウイッチハンターロビン)</td>\n",
       "    </tr>\n",
       "    <tr>\n",
       "      <th>4</th>\n",
       "      <td>Bouken Ou Beet</td>\n",
       "      <td>6.98</td>\n",
       "      <td>冒険王ビィト</td>\n",
       "    </tr>\n",
       "  </tbody>\n",
       "</table>\n",
       "</div>"
      ],
      "text/plain": [
       "                              Name  Score                     Japanese name\n",
       "0                     Cowboy Bebop   8.78                         カウボーイビバップ\n",
       "1  Cowboy Bebop: Tengoku no Tobira   8.39                    カウボーイビバップ 天国の扉\n",
       "2                           Trigun   8.24                             トライガン\n",
       "3               Witch Hunter Robin   7.27  Witch Hunter ROBIN (ウイッチハンターロビン)\n",
       "4                   Bouken Ou Beet   6.98                            冒険王ビィト"
      ]
     },
     "execution_count": 5,
     "metadata": {},
     "output_type": "execute_result"
    }
   ],
   "source": [
    "usecols = ['Name', 'Japanese name', 'Score']\n",
    "anime = pd.read_csv('data/anime.csv', usecols=usecols)\n",
    "anime['Score'] = anime['Score'].replace('Unknown', 0).astype(float)\n",
    "anime.head()"
   ]
  },
  {
   "cell_type": "code",
   "execution_count": 6,
   "metadata": {},
   "outputs": [
    {
     "data": {
      "text/html": [
       "<div>\n",
       "<style scoped>\n",
       "    .dataframe tbody tr th:only-of-type {\n",
       "        vertical-align: middle;\n",
       "    }\n",
       "\n",
       "    .dataframe tbody tr th {\n",
       "        vertical-align: top;\n",
       "    }\n",
       "\n",
       "    .dataframe thead th {\n",
       "        text-align: right;\n",
       "    }\n",
       "</style>\n",
       "<table border=\"1\" class=\"dataframe\">\n",
       "  <thead>\n",
       "    <tr style=\"text-align: right;\">\n",
       "      <th></th>\n",
       "      <th>MAL_ID</th>\n",
       "      <th>Name</th>\n",
       "      <th>IMAGE_URL</th>\n",
       "    </tr>\n",
       "  </thead>\n",
       "  <tbody>\n",
       "    <tr>\n",
       "      <th>0</th>\n",
       "      <td>1</td>\n",
       "      <td>Cowboy Bebop</td>\n",
       "      <td>https://cdn.myanimelist.net/images/anime/4/196...</td>\n",
       "    </tr>\n",
       "    <tr>\n",
       "      <th>1</th>\n",
       "      <td>5</td>\n",
       "      <td>Cowboy Bebop: Tengoku no Tobira</td>\n",
       "      <td>https://cdn.myanimelist.net/images/anime/1439/...</td>\n",
       "    </tr>\n",
       "    <tr>\n",
       "      <th>2</th>\n",
       "      <td>6</td>\n",
       "      <td>Trigun</td>\n",
       "      <td>https://cdn.myanimelist.net/images/anime/7/203...</td>\n",
       "    </tr>\n",
       "    <tr>\n",
       "      <th>3</th>\n",
       "      <td>7</td>\n",
       "      <td>Witch Hunter Robin</td>\n",
       "      <td>https://cdn.myanimelist.net/images/anime/1796/...</td>\n",
       "    </tr>\n",
       "    <tr>\n",
       "      <th>4</th>\n",
       "      <td>8</td>\n",
       "      <td>Bouken Ou Beet</td>\n",
       "      <td>https://cdn.myanimelist.net/images/anime/7/215...</td>\n",
       "    </tr>\n",
       "  </tbody>\n",
       "</table>\n",
       "</div>"
      ],
      "text/plain": [
       "   MAL_ID                             Name  \\\n",
       "0       1                     Cowboy Bebop   \n",
       "1       5  Cowboy Bebop: Tengoku no Tobira   \n",
       "2       6                           Trigun   \n",
       "3       7               Witch Hunter Robin   \n",
       "4       8                   Bouken Ou Beet   \n",
       "\n",
       "                                           IMAGE_URL  \n",
       "0  https://cdn.myanimelist.net/images/anime/4/196...  \n",
       "1  https://cdn.myanimelist.net/images/anime/1439/...  \n",
       "2  https://cdn.myanimelist.net/images/anime/7/203...  \n",
       "3  https://cdn.myanimelist.net/images/anime/1796/...  \n",
       "4  https://cdn.myanimelist.net/images/anime/7/215...  "
      ]
     },
     "execution_count": 6,
     "metadata": {},
     "output_type": "execute_result"
    }
   ],
   "source": [
    "anime_image = pd.read_csv('data/anime_image.csv')\n",
    "anime_image.head()"
   ]
  },
  {
   "cell_type": "code",
   "execution_count": 12,
   "metadata": {},
   "outputs": [],
   "source": [
    "def search(text):\n",
    "    query1 = anime['Japanese name'].str.contains(text, case=False)\n",
    "    query2 = anime['Name'].str.contains(text, case=False)\n",
    "    anime_index = anime[query1 | query2].head(1).index\n",
    "    return anime_index"
   ]
  },
  {
   "cell_type": "code",
   "execution_count": 24,
   "metadata": {},
   "outputs": [
    {
     "name": "stdout",
     "output_type": "stream",
     "text": [
      "「STEINS;GATE」をご覧になったあなたへ\n",
      "シュタインズ・ゲート ゼロ, \n",
      "https://myanimelist.net/anime/30484\n",
      "https://cdn.myanimelist.net/images/anime/1375/93521.jpg\n",
      "ISLAND, \n",
      "https://myanimelist.net/anime/33012\n",
      "https://cdn.myanimelist.net/images/anime/1951/95080.jpg\n",
      "うたわれるもの 偽りの仮面, \n",
      "https://myanimelist.net/anime/30901\n",
      "https://cdn.myanimelist.net/images/anime/8/75968.jpg\n",
      "少女終末旅行, \n",
      "https://myanimelist.net/anime/35838\n",
      "https://cdn.myanimelist.net/images/anime/12/88321.jpg\n",
      "月は東に日は西に〜Operation Sanctuary〜, \n",
      "https://myanimelist.net/anime/648\n",
      "https://cdn.myanimelist.net/images/anime/1/648.jpg\n"
     ]
    }
   ],
   "source": [
    "for i, number in enumerate(indices[search('Steins')][0][:6]):\n",
    "    if i == 0:\n",
    "        print(f\"「{anime.at[number, 'Japanese name']}」をご覧になったあなたへ\")\n",
    "        continue\n",
    "    print(f\"{anime.at[number, 'Japanese name']}, \")\n",
    "    id = anime_image.at[number, 'MAL_ID']\n",
    "    print(f'https://myanimelist.net/anime/{id}')\n",
    "    print(f\"{anime_image.at[number, 'IMAGE_URL']}\")\n"
   ]
  }
 ],
 "metadata": {
  "interpreter": {
   "hash": "3a9e3e929f755143bbbe12c4629948dfaf0c9114026a7a9f43debf2bdb83f05a"
  },
  "kernelspec": {
   "display_name": "Python 3.9.5 64-bit ('venv': venv)",
   "name": "python3"
  },
  "language_info": {
   "codemirror_mode": {
    "name": "ipython",
    "version": 3
   },
   "file_extension": ".py",
   "mimetype": "text/x-python",
   "name": "python",
   "nbconvert_exporter": "python",
   "pygments_lexer": "ipython3",
   "version": "3.9.5"
  },
  "orig_nbformat": 4
 },
 "nbformat": 4,
 "nbformat_minor": 2
}
